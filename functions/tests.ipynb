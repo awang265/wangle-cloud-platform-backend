{
 "cells": [
  {
   "cell_type": "code",
   "execution_count": 1,
   "id": "37384d3a",
   "metadata": {},
   "outputs": [
    {
     "name": "stderr",
     "output_type": "stream",
     "text": [
      "FF\n",
      "======================================================================\n",
      "FAIL: test_document_creation (__main__.TestViews.test_document_creation)\n",
      "----------------------------------------------------------------------\n",
      "Traceback (most recent call last):\n",
      "  File \"C:\\Users\\andyw\\anaconda3\\Lib\\unittest\\mock.py\", line 1375, in patched\n",
      "    return func(*newargs, **newkeywargs)\n",
      "           ^^^^^^^^^^^^^^^^^^^^^^^^^^^^^\n",
      "  File \"C:\\Users\\andyw\\AppData\\Local\\Temp\\ipykernel_19620\\3576033117.py\", line 47, in test_document_creation\n",
      "    mock_visits_ref.document.assert_called_once_with('11')\n",
      "  File \"C:\\Users\\andyw\\anaconda3\\Lib\\unittest\\mock.py\", line 950, in assert_called_once_with\n",
      "    raise AssertionError(msg)\n",
      "AssertionError: Expected 'document' to be called once. Called 0 times.\n",
      "\n",
      "======================================================================\n",
      "FAIL: test_visit_count_increment (__main__.TestViews.test_visit_count_increment)\n",
      "----------------------------------------------------------------------\n",
      "Traceback (most recent call last):\n",
      "  File \"C:\\Users\\andyw\\anaconda3\\Lib\\unittest\\mock.py\", line 1375, in patched\n",
      "    return func(*newargs, **newkeywargs)\n",
      "           ^^^^^^^^^^^^^^^^^^^^^^^^^^^^^\n",
      "  File \"C:\\Users\\andyw\\AppData\\Local\\Temp\\ipykernel_19620\\3576033117.py\", line 27, in test_visit_count_increment\n",
      "    mock_visits_ref.set.assert_called_once_with({'views': 6})\n",
      "  File \"C:\\Users\\andyw\\anaconda3\\Lib\\unittest\\mock.py\", line 950, in assert_called_once_with\n",
      "    raise AssertionError(msg)\n",
      "AssertionError: Expected 'set' to be called once. Called 2 times.\n",
      "Calls: [call({'views': 6}),\n",
      " call({'visitID': 6, 'ip': '127.0.0.1', 'timeAccessed': datetime.datetime(2023, 12, 14, 18, 57, 12, 309608)})].\n",
      "\n",
      "----------------------------------------------------------------------\n",
      "Ran 2 tests in 0.007s\n",
      "\n",
      "FAILED (failures=2)\n"
     ]
    }
   ],
   "source": [
    "import unittest\n",
    "from unittest.mock import MagicMock, patch\n",
    "from main import viewcount_http\n",
    "\n",
    "class TestViews(unittest.TestCase):\n",
    "\n",
    "    def setUp(self):\n",
    "        # Set up a mock request object\n",
    "        self.mock_request = MagicMock()\n",
    "        self.mock_request.method = 'GET'\n",
    "        self.mock_request.remote_addr = '127.0.0.1'  # Sample IP address for testing\n",
    "\n",
    "    @patch('main.firestore')\n",
    "    def test_visit_count_increment(self, mock_firestore):\n",
    "        # Mock Firestore client and document reference\n",
    "        mock_db = MagicMock()\n",
    "        mock_firestore.client.return_value = mock_db\n",
    "        mock_visits_ref = mock_db.collection.return_value.document.return_value\n",
    "\n",
    "        # Set initial visit count\n",
    "        mock_visits_ref.get.return_value.to_dict.return_value = {'views': 5}\n",
    "\n",
    "        # Call the function with the mock request\n",
    "        response_text, status_code, headers = viewcount_http(self.mock_request)\n",
    "\n",
    "        # Check if the visit count was incremented\n",
    "        mock_visits_ref.set.assert_called_once_with({'views': 6})\n",
    "\n",
    "        # Check if the response contains the correct visit count\n",
    "        self.assertEqual(response_text, '6')\n",
    "        self.assertEqual(status_code, 200)\n",
    "\n",
    "    @patch('main.firestore')\n",
    "    def test_document_creation(self, mock_firestore):\n",
    "        # Mock Firestore client and document reference\n",
    "        mock_db = MagicMock()\n",
    "        mock_firestore.client.return_value = mock_db\n",
    "        mock_visits_ref = mock_db.collection.return_value.document.return_value\n",
    "\n",
    "        # Set initial visit count\n",
    "        mock_visits_ref.get.return_value.to_dict.return_value = {'views': 10}\n",
    "\n",
    "        # Call the function with the mock request\n",
    "        viewcount_http(self.mock_request)\n",
    "\n",
    "        # Check if a new document is created with the correct fields\n",
    "        mock_visits_ref.document.assert_called_once_with('11')\n",
    "        mock_visits_ref.document.return_value.set.assert_called_once_with({\n",
    "            'visitID': 11,\n",
    "            'ip': '127.0.0.1',\n",
    "            # Add more fields to test here if necessary\n",
    "        })\n",
    "\n",
    "if __name__ == '__main__':\n",
    "    unittest.main(argv=['first-arg-is-ignored'], exit=False)"
   ]
  },
  {
   "cell_type": "code",
   "execution_count": 2,
   "id": "02473b41",
   "metadata": {},
   "outputs": [
    {
     "name": "stderr",
     "output_type": "stream",
     "text": [
      "E\n",
      "======================================================================\n",
      "ERROR: C:\\Users\\andyw\\AppData\\Roaming\\jupyter\\runtime\\kernel-5c5069e4-b966-49d2-8389-f73f1674d745 (unittest.loader._FailedTest.C:\\Users\\andyw\\AppData\\Roaming\\jupyter\\runtime\\kernel-5c5069e4-b966-49d2-8389-f73f1674d745)\n",
      "----------------------------------------------------------------------\n",
      "AttributeError: module '__main__' has no attribute 'C:\\Users\\andyw\\AppData\\Roaming\\jupyter\\runtime\\kernel-5c5069e4-b966-49d2-8389-f73f1674d745'\n",
      "\n",
      "----------------------------------------------------------------------\n",
      "Ran 1 test in 0.000s\n",
      "\n",
      "FAILED (errors=1)\n"
     ]
    },
    {
     "ename": "SystemExit",
     "evalue": "True",
     "output_type": "error",
     "traceback": [
      "An exception has occurred, use %tb to see the full traceback.\n",
      "\u001b[1;31mSystemExit\u001b[0m\u001b[1;31m:\u001b[0m True\n"
     ]
    },
    {
     "name": "stderr",
     "output_type": "stream",
     "text": [
      "C:\\Users\\andyw\\anaconda3\\Lib\\site-packages\\IPython\\core\\interactiveshell.py:3534: UserWarning: To exit: use 'exit', 'quit', or Ctrl-D.\n",
      "  warn(\"To exit: use 'exit', 'quit', or Ctrl-D.\", stacklevel=1)\n"
     ]
    }
   ],
   "source": [
    "unittest.main()"
   ]
  }
 ],
 "metadata": {
  "kernelspec": {
   "display_name": "Python 3 (ipykernel)",
   "language": "python",
   "name": "python3"
  },
  "language_info": {
   "codemirror_mode": {
    "name": "ipython",
    "version": 3
   },
   "file_extension": ".py",
   "mimetype": "text/x-python",
   "name": "python",
   "nbconvert_exporter": "python",
   "pygments_lexer": "ipython3",
   "version": "3.11.5"
  }
 },
 "nbformat": 4,
 "nbformat_minor": 5
}
